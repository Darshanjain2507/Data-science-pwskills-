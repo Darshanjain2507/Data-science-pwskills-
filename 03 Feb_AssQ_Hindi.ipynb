{
 "cells": [
  {
   "cell_type": "markdown",
   "id": "ff76bf6e",
   "metadata": {},
   "source": [
    "Q1. Which keyword is used to create a function? Create a function to return a list of odd numbers in the\n",
    "range of 1 to 25.\n"
   ]
  },
  {
   "cell_type": "code",
   "execution_count": null,
   "id": "b0a59c79",
   "metadata": {},
   "outputs": [],
   "source": [
    "Ans : def"
   ]
  },
  {
   "cell_type": "code",
   "execution_count": 2,
   "id": "fff5aeb9",
   "metadata": {},
   "outputs": [
    {
     "data": {
      "text/plain": [
       "[1, 3, 5, 7, 9, 11, 13, 15, 17, 19, 21, 23]"
      ]
     },
     "execution_count": 2,
     "metadata": {},
     "output_type": "execute_result"
    }
   ],
   "source": [
    "def test():\n",
    "    return [i for i in range(1,25) if i%2 !=0]\n",
    "test()"
   ]
  },
  {
   "cell_type": "markdown",
   "id": "279e2ce3",
   "metadata": {},
   "source": [
    "Q2. Why * args and * * kwargs is used in some functions? Create a function each for *args and **kwargs\n",
    "to demonstrate their use.\n"
   ]
  },
  {
   "cell_type": "markdown",
   "id": "ab320495",
   "metadata": {},
   "source": [
    " - both are spacial symbol for passing argumeents\n",
    " - * args is a only value argument\n",
    " - * * kwargs is a key-word argument\n",
    " - Python program to illustrate *args with a first extra argument"
   ]
  },
  {
   "cell_type": "code",
   "execution_count": 7,
   "id": "78f12b8b",
   "metadata": {},
   "outputs": [
    {
     "name": "stdout",
     "output_type": "stream",
     "text": [
      "Hello\n",
      "['python', 'world']\n"
     ]
    },
    {
     "data": {
      "text/plain": [
       "list"
      ]
     },
     "execution_count": 7,
     "metadata": {},
     "output_type": "execute_result"
    }
   ],
   "source": [
    "def test(a,*args):\n",
    "    print(a)\n",
    "    return args\n",
    "l1 = list(test('Hello','python','world'))\n",
    "print(l1)\n",
    "type(l1)"
   ]
  },
  {
   "cell_type": "code",
   "execution_count": 8,
   "id": "bf67039f",
   "metadata": {},
   "outputs": [
    {
     "data": {
      "text/plain": [
       "{'company': 'pwskills', 'Course': ['Ds', 'ML', 'AI']}"
      ]
     },
     "execution_count": 8,
     "metadata": {},
     "output_type": "execute_result"
    }
   ],
   "source": [
    "def test2(**kwargs):\n",
    "    return kwargs\n",
    "test2(company='pwskills',Course=['Ds','ML','AI'])"
   ]
  },
  {
   "cell_type": "markdown",
   "id": "94812821",
   "metadata": {},
   "source": [
    "Q3. What is an iterator in python? Name the method used to initialise the iterator object and the method\n",
    "\n",
    "used for iteration. Use these methods to print the first five elements of the given list [2, 4, 6, 8, 10, 12, 14,\n",
    "16, 18, 20]\n"
   ]
  },
  {
   "cell_type": "markdown",
   "id": "4e5154ab",
   "metadata": {},
   "source": [
    "- iterator is a object, it is able to use next( ) function with this.   \n",
    "- iter( ) used to initialise objects\n",
    "- And next( ) used to iteration any iterator."
   ]
  },
  {
   "cell_type": "code",
   "execution_count": 9,
   "id": "02880179",
   "metadata": {},
   "outputs": [
    {
     "name": "stdout",
     "output_type": "stream",
     "text": [
      "2\n",
      "4\n",
      "6\n",
      "8\n",
      "10\n"
     ]
    }
   ],
   "source": [
    "l = [2, 4, 6, 8, 10, 12, 14, 16, 18, 20]\n",
    "l1 = iter(l)\n",
    "print(next(l1))\n",
    "print(next(l1))\n",
    "print(next(l1))\n",
    "print(next(l1))\n",
    "print(next(l1))"
   ]
  },
  {
   "cell_type": "code",
   "execution_count": 10,
   "id": "a69ea82d",
   "metadata": {},
   "outputs": [
    {
     "data": {
      "text/plain": [
       "list_iterator"
      ]
     },
     "execution_count": 10,
     "metadata": {},
     "output_type": "execute_result"
    }
   ],
   "source": [
    "type(iter(l))"
   ]
  },
  {
   "cell_type": "markdown",
   "id": "1b69c4c4",
   "metadata": {},
   "source": [
    "Q4. What is a generator function in python? Why yield keyword is used? Give an example of a generator\n",
    "function\n"
   ]
  },
  {
   "cell_type": "markdown",
   "id": "835384c9",
   "metadata": {},
   "source": [
    "A generator is a special type of function which does not return a single value, instead, it returns an iterator object with a sequence of values. In a generator function, a yield statement is used rather than a return statement."
   ]
  },
  {
   "cell_type": "code",
   "execution_count": 11,
   "id": "18d4590e",
   "metadata": {},
   "outputs": [
    {
     "data": {
      "text/plain": [
       "<generator object test4 at 0x000001887F9A6E58>"
      ]
     },
     "execution_count": 11,
     "metadata": {},
     "output_type": "execute_result"
    }
   ],
   "source": [
    "def test4():\n",
    "    for i in range(1,11):\n",
    "        yield i\n",
    "test4()"
   ]
  },
  {
   "cell_type": "code",
   "execution_count": 32,
   "id": "a7232af7",
   "metadata": {},
   "outputs": [
    {
     "data": {
      "text/plain": [
       "(1, 2, 3, 4, 5, 6, 7, 8, 9, 10)"
      ]
     },
     "execution_count": 32,
     "metadata": {},
     "output_type": "execute_result"
    }
   ],
   "source": [
    "tuple(test4())"
   ]
  },
  {
   "cell_type": "markdown",
   "id": "c8e10031",
   "metadata": {},
   "source": [
    "\n",
    "Q5. Create a generator function for prime numbers less than 1000. Use the next() method to print the irst 20 prime numbers.\n"
   ]
  },
  {
   "cell_type": "code",
   "execution_count": 15,
   "id": "0ab2d6b9",
   "metadata": {},
   "outputs": [
    {
     "name": "stdout",
     "output_type": "stream",
     "text": [
      "2, 3, 5, 7, 11, 13, 17, 19, 23, 29, 31, 37, 41, 43, 47, 53, 59, 61, 67, 71, "
     ]
    }
   ],
   "source": [
    "counts = 0\n",
    "prime = []\n",
    "def test5():\n",
    "    for i in range (2,1000):\n",
    "        count = 0\n",
    "        for j in range(1,i+1):\n",
    "            if i%j ==0:\n",
    "                count = count +1\n",
    "        if count==2:\n",
    "            prime.append(i)  \n",
    "test5()\n",
    "prime = iter(prime)\n",
    "while counts<20:\n",
    "    print(next(prime),end=', ')\n",
    "    counts +=1"
   ]
  },
  {
   "cell_type": "markdown",
   "id": "085355a5",
   "metadata": {},
   "source": [
    "Q6. Write a python program to print the first 10 Fibonacci numbers using a while loop.\n"
   ]
  },
  {
   "cell_type": "code",
   "execution_count": 35,
   "id": "2eca6b47",
   "metadata": {},
   "outputs": [
    {
     "name": "stdout",
     "output_type": "stream",
     "text": [
      "0, 1, 1, 2, 3, 5, 8, 13, 21, 34, "
     ]
    }
   ],
   "source": [
    "a = c = 0\n",
    "b = 1 \n",
    "while c<57:\n",
    "    print(a, end = ', ')\n",
    "    c = a+b\n",
    "    a = b\n",
    "    b = c\n",
    "    c +=1"
   ]
  },
  {
   "cell_type": "markdown",
   "id": "bdecc579",
   "metadata": {},
   "source": [
    "Q7. Write a List Comprehension to iterate through the given string: 'pwskills'.\n",
    "Expected output: ['p', 'w, 's', k, i, I, I, 's']\n"
   ]
  },
  {
   "cell_type": "code",
   "execution_count": 20,
   "id": "86f820a3",
   "metadata": {},
   "outputs": [
    {
     "name": "stdout",
     "output_type": "stream",
     "text": [
      "['p', 'w', 's', 'k', 'i', 'l', 'l', 's']\n"
     ]
    }
   ],
   "source": [
    "string = 'pwskills'\n",
    "List = [i for i in string]\n",
    "print(List)"
   ]
  },
  {
   "cell_type": "markdown",
   "id": "6ef0da63",
   "metadata": {},
   "source": [
    "Q8. Write a python program to check whether a given number is Palindrome or not using a while loop."
   ]
  },
  {
   "cell_type": "code",
   "execution_count": 22,
   "id": "4025cec7",
   "metadata": {},
   "outputs": [
    {
     "name": "stdout",
     "output_type": "stream",
     "text": [
      "Enter a number : 121\n",
      "This is Palindrome Number\n"
     ]
    }
   ],
   "source": [
    "number = input(\"Enter a number : \")\n",
    "if number[::-1] == number:\n",
    "    print('This is Palindrome Number')\n",
    "else:\n",
    "    print('This is not Palindrome Number')"
   ]
  },
  {
   "cell_type": "code",
   "execution_count": null,
   "id": "f3cff4de",
   "metadata": {},
   "outputs": [],
   "source": []
  },
  {
   "cell_type": "code",
   "execution_count": null,
   "id": "e365dbf0",
   "metadata": {},
   "outputs": [],
   "source": []
  },
  {
   "cell_type": "code",
   "execution_count": null,
   "id": "748fd0fb",
   "metadata": {},
   "outputs": [],
   "source": []
  },
  {
   "cell_type": "code",
   "execution_count": null,
   "id": "378d15bb",
   "metadata": {},
   "outputs": [],
   "source": []
  },
  {
   "cell_type": "code",
   "execution_count": null,
   "id": "500fd068",
   "metadata": {},
   "outputs": [],
   "source": []
  },
  {
   "cell_type": "code",
   "execution_count": null,
   "id": "bc6f12e5",
   "metadata": {},
   "outputs": [],
   "source": []
  },
  {
   "cell_type": "code",
   "execution_count": null,
   "id": "755ce59b",
   "metadata": {},
   "outputs": [],
   "source": []
  }
 ],
 "metadata": {
  "kernelspec": {
   "display_name": "Python 3 (ipykernel)",
   "language": "python",
   "name": "python3"
  },
  "language_info": {
   "codemirror_mode": {
    "name": "ipython",
    "version": 3
   },
   "file_extension": ".py",
   "mimetype": "text/x-python",
   "name": "python",
   "nbconvert_exporter": "python",
   "pygments_lexer": "ipython3",
   "version": "3.7.1"
  }
 },
 "nbformat": 4,
 "nbformat_minor": 5
}
