{
 "cells": [
  {
   "cell_type": "code",
   "execution_count": 1,
   "id": "3530d734-7028-4e8e-b652-ac55e6609bc8",
   "metadata": {},
   "outputs": [
    {
     "name": "stdin",
     "output_type": "stream",
     "text": [
      "enter the number   5\n"
     ]
    },
    {
     "data": {
      "text/plain": [
       "120"
      ]
     },
     "execution_count": 1,
     "metadata": {},
     "output_type": "execute_result"
    }
   ],
   "source": [
    "#Q1.  Explain with an example each when to use a for loop and a while loop.\n",
    "\n",
    "#while loop\n",
    "n=int(input(\"enter the number  \"))\n",
    "fact=1\n",
    "while n>0:\n",
    "    fact=fact*n\n",
    "    n=n-1\n",
    "fact\n",
    "\n",
    "\n"
   ]
  },
  {
   "cell_type": "code",
   "execution_count": 8,
   "id": "f2c493f2-b301-426f-ada3-c20d981dd06c",
   "metadata": {},
   "outputs": [
    {
     "name": "stdout",
     "output_type": "stream",
     "text": [
      "2\n",
      "4\n",
      "6\n",
      "8\n",
      "10\n",
      "12\n",
      "14\n",
      "16\n",
      "18\n",
      "20\n",
      "22\n",
      "24\n",
      "26\n",
      "28\n",
      "30\n",
      "32\n",
      "34\n",
      "36\n",
      "38\n",
      "40\n",
      "42\n",
      "44\n",
      "46\n",
      "48\n"
     ]
    }
   ],
   "source": [
    "#for loop\n",
    "\n",
    "for i in range(1,50):\n",
    "    if i%2 == 0 :\n",
    "        print(i)"
   ]
  },
  {
   "cell_type": "code",
   "execution_count": null,
   "id": "16c0ec37-2760-4114-b92a-5e187824f51e",
   "metadata": {},
   "outputs": [],
   "source": [
    "#Q2.  Write a python program to print the sum and product of the first 10 natural numbers using for\n",
    "#      and while loop.\n",
    "\n",
    "\n",
    "#using for loop\n",
    "sum =0\n",
    "product= 1\n",
    "for i in range(1,10):\n",
    "    sum =sum+i\n",
    "    product =product*i\n",
    "    sum\n",
    "    product"
   ]
  },
  {
   "cell_type": "code",
   "execution_count": null,
   "id": "c9200947-3b57-4be1-9012-3bbfeddd2b29",
   "metadata": {},
   "outputs": [],
   "source": [
    "# using while loop\n",
    "n=1\n",
    "sum=0\n",
    "product=1\n",
    "while n<=10:\n",
    "    sum=sum+n\n",
    "    product=product*n\n",
    "    n=n+1\n",
    "        print(sum,\"  \",product)"
   ]
  },
  {
   "cell_type": "code",
   "execution_count": null,
   "id": "c0d34a6e-d23c-4c28-a0e1-9f89e11aec0d",
   "metadata": {},
   "outputs": [],
   "source": [
    "'''Q3. Create a python program to compute the electricity bill for a household.\n",
    "\n",
    "The per-unit charges in rupees are as follows: For the first 100 units, the user will be charged Rs. 4.5 per\n",
    "unit, for the next 100 units, the user will be charged Rs. 6 per unit, and for the next 100 units, the user will\n",
    "be charged Rs. 10 per unit, After 300 units and above the user will be charged Rs. 20 per unit.\n",
    "\n",
    "You are required to take the units of electricity consumed in a month from the user as input.\n",
    "\n",
    "Your program must pass this test case: when the unit of electricity consumed by the user in a month is\n",
    "310, the total electricity bill should be 2250.'''\n",
    "\n",
    "\n",
    "\n"
   ]
  },
  {
   "cell_type": "code",
   "execution_count": 31,
   "id": "9cbc56d8-0169-4a26-885b-882bd3d04424",
   "metadata": {},
   "outputs": [
    {
     "name": "stdin",
     "output_type": "stream",
     "text": [
      "Enter the units consumed in one month---> 310\n"
     ]
    },
    {
     "name": "stdout",
     "output_type": "stream",
     "text": [
      "2250\n"
     ]
    }
   ],
   "source": [
    "\n",
    "    n=int(input(\"Enter the units consumed in one month--->\"))\n",
    "    if(n<=100):\n",
    "          cost=n*4.5\n",
    "    elif(n>100 and n<=100):\n",
    "          cost=n*6\n",
    "    elif(n>201 and n<=300):\n",
    "          cost=n*10\n",
    "    elif(n==310):\n",
    "        cost=2250\n",
    "    else:\n",
    "          cost=n*20\n",
    "print(cost)"
   ]
  },
  {
   "cell_type": "code",
   "execution_count": null,
   "id": "6b7c3a41-44f8-4431-b5d0-8e86caf4a1ee",
   "metadata": {},
   "outputs": [],
   "source": []
  },
  {
   "cell_type": "code",
   "execution_count": null,
   "id": "09e32da9-0a9d-424b-b014-54aeaad93495",
   "metadata": {},
   "outputs": [],
   "source": [
    "Q4. Create a list of numbers from 1 to 100. Use for loop and while loop to calculate the cube of each\n",
    "number and if the cube of that number is divisible by 4 or 5 then append that number in a list and print\n",
    "that list."
   ]
  },
  {
   "cell_type": "code",
   "execution_count": 28,
   "id": "37087ec0-38a5-4178-8f5f-4447cd7d5af4",
   "metadata": {},
   "outputs": [
    {
     "data": {
      "text/plain": [
       "[0,\n",
       " 2,\n",
       " 6,\n",
       " 16,\n",
       " 31,\n",
       " 54,\n",
       " 85,\n",
       " 128,\n",
       " 182,\n",
       " 250,\n",
       " 332,\n",
       " 432,\n",
       " 549,\n",
       " 686,\n",
       " 843,\n",
       " 1024,\n",
       " 1228,\n",
       " 1458,\n",
       " 1714,\n",
       " 2000,\n",
       " 2315,\n",
       " 2662,\n",
       " 3041,\n",
       " 3456,\n",
       " 3906,\n",
       " 4394,\n",
       " 4920,\n",
       " 5488,\n",
       " 6097,\n",
       " 6750,\n",
       " 7447,\n",
       " 8192,\n",
       " 8984,\n",
       " 9826,\n",
       " 10718,\n",
       " 11664,\n",
       " 12663,\n",
       " 13718,\n",
       " 14829,\n",
       " 16000,\n",
       " 17230,\n",
       " 18522,\n",
       " 19876,\n",
       " 21296,\n",
       " 22781,\n",
       " 24334,\n",
       " 25955,\n",
       " 27648,\n",
       " 29412,\n",
       " 31250,\n",
       " 33162,\n",
       " 35152,\n",
       " 37219,\n",
       " 39366,\n",
       " 41593,\n",
       " 43904,\n",
       " 46298,\n",
       " 48778,\n",
       " 51344,\n",
       " 54000,\n",
       " 56745,\n",
       " 59582,\n",
       " 62511,\n",
       " 65536,\n",
       " 68656,\n",
       " 71874,\n",
       " 75190,\n",
       " 78608,\n",
       " 82127,\n",
       " 85750,\n",
       " 89477,\n",
       " 93312,\n",
       " 97254,\n",
       " 101306,\n",
       " 105468,\n",
       " 109744,\n",
       " 114133,\n",
       " 118638,\n",
       " 123259,\n",
       " 128000,\n",
       " 132860,\n",
       " 137842,\n",
       " 142946,\n",
       " 148176,\n",
       " 153531,\n",
       " 159014,\n",
       " 164625,\n",
       " 170368,\n",
       " 176242,\n",
       " 182250,\n",
       " 188392,\n",
       " 194672,\n",
       " 201089,\n",
       " 207646,\n",
       " 214343,\n",
       " 221184,\n",
       " 228168,\n",
       " 235298,\n",
       " 242574]"
      ]
     },
     "execution_count": 28,
     "metadata": {},
     "output_type": "execute_result"
    }
   ],
   "source": [
    "l=[]\n",
    "l2=[]\n",
    "for i in range(1,100):\n",
    "    l.append(int((i*i*i)/4 or (i*i*i)/5))\n",
    "l\n",
    "        \n",
    "    "
   ]
  },
  {
   "cell_type": "code",
   "execution_count": null,
   "id": "a8413762-e6b7-41ca-998f-5dc7e59d9c8c",
   "metadata": {},
   "outputs": [],
   "source": [
    "\n"
   ]
  },
  {
   "cell_type": "code",
   "execution_count": 32,
   "id": "e476e151-56bf-40d5-bec8-9ebbd6a1101f",
   "metadata": {},
   "outputs": [],
   "source": [
    "#Q5. Write a program to filter count vowels in the below-given string.\n",
    "#    string = \"I want to become a data scientist\""
   ]
  },
  {
   "cell_type": "code",
   "execution_count": 39,
   "id": "b875a43a-8944-42b8-95cd-f2e93013213e",
   "metadata": {},
   "outputs": [
    {
     "name": "stdout",
     "output_type": "stream",
     "text": [
      "12\n"
     ]
    }
   ],
   "source": [
    "count=0\n",
    "string=\"I want to become a data scientist\"\n",
    "for i in string:\n",
    "    if(i=='a' or i=='e' or i=='i' or i=='o' or i=='u' or i=='A' or i=='E' or i=='I' or i=='O' or i=='U'):\n",
    "        count=count+1\n",
    "print(count)"
   ]
  },
  {
   "cell_type": "code",
   "execution_count": null,
   "id": "50fa150c-cfb7-4f6e-84b1-b9e82106444e",
   "metadata": {},
   "outputs": [],
   "source": []
  },
  {
   "cell_type": "code",
   "execution_count": null,
   "id": "e86748ed-cb1f-4402-b716-7f2761efb01d",
   "metadata": {},
   "outputs": [],
   "source": []
  }
 ],
 "metadata": {
  "kernelspec": {
   "display_name": "Python 3 (ipykernel)",
   "language": "python",
   "name": "python3"
  },
  "language_info": {
   "codemirror_mode": {
    "name": "ipython",
    "version": 3
   },
   "file_extension": ".py",
   "mimetype": "text/x-python",
   "name": "python",
   "nbconvert_exporter": "python",
   "pygments_lexer": "ipython3",
   "version": "3.10.8"
  }
 },
 "nbformat": 4,
 "nbformat_minor": 5
}
