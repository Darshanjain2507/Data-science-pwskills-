{
 "cells": [
  {
   "cell_type": "code",
   "execution_count": null,
   "id": "e5d9eb7f-f62b-4079-b36d-1db7468c6c54",
   "metadata": {},
   "outputs": [],
   "source": [
    "Q1. What is an API? Give an example, where an API is used in real life.\n",
    "\n",
    "An application programming interface (API) is the medium by which different software interact. They foster connections between\n",
    "technologies to enhance user experience.\n",
    "\n",
    "payPal is a fintech service that allows users to connect personal financial information to their PayPal account. This paves the way\n",
    "for easier, more secure money transfers.\n",
    "\n",
    "Q2. Give advantages and disadvantages of using API.\n",
    " advantages\n",
    "1.Increased Visibility \n",
    "2.Seamless Integration\n",
    "3.Increased Efficiency\n",
    "\n",
    " disadvantages\n",
    "1.Increased Complexity\n",
    "2.Dependency on Third Party Services\n",
    "\n",
    "Q3. What is a Web API? Differentiate between API and Web API.\n",
    "\n",
    "Web API as the name suggests, is an API over the web which can be accessed using HTTP protocol. It is a concept and not a\n",
    "technology. We can build Web API using different technologies such as Java,.NET etc. For example, Twitter's REST APIs provide \n",
    "programmatic access to read and write data using which we can integrate twitter's capabilities into our own application.\n",
    "\n",
    "A significant distinction between an API and a web service is that a web service is a type of API but not all APIs are web services.\n",
    "A web service works by sharing files with other applications, making it an API, while an API is broader as it's an intermediary \n",
    "between two disconnected applications.\n",
    "\n",
    "Q4. Explain REST and SOAP Architecture. Mention shortcomings of SOAP.\n",
    "\n",
    "REST is a set of architectural principles attuned to the needs of lightweight web services and mobile applications. Because it's a set\n",
    "of guidelines, it leaves the implementation of these recommendations to developers.\n",
    "\n",
    "\n",
    "SOAP is a standard protocol that was first designed so that applications built with different languages and on different platforms could \n",
    "communicate. Because it is a protocol, it imposes built-in rules that increase its complexity and overhead, which can lead to longer page load times. \n",
    "\n",
    "\n",
    "\n",
    "\n",
    "Q5. Differentiate between REST and SOAP.\n",
    "\n",
    "\n",
    "\n",
    "Many legacy systems may still adhere to SOAP, while REST came later and is often viewed as a faster alternative in web-based scenarios. \n",
    "REST is a set of guidelines that offers flexible implementation, whereas SOAP is a protocol with specific requirements like XML messaging.\n",
    "\n",
    "REST APIs are lightweight, making them ideal for newer contexts like the Internet of Things (IoT), mobile application development, and \n",
    "serverless computing. SOAP web services offer built-in security and transaction compliance that align with many enterprise needs, but that \n",
    "also makes them heavier. Additionally, many public APIs, like the Google Maps API"
   ]
  }
 ],
 "metadata": {
  "kernelspec": {
   "display_name": "Python 3 (ipykernel)",
   "language": "python",
   "name": "python3"
  },
  "language_info": {
   "codemirror_mode": {
    "name": "ipython",
    "version": 3
   },
   "file_extension": ".py",
   "mimetype": "text/x-python",
   "name": "python",
   "nbconvert_exporter": "python",
   "pygments_lexer": "ipython3",
   "version": "3.10.8"
  }
 },
 "nbformat": 4,
 "nbformat_minor": 5
}
